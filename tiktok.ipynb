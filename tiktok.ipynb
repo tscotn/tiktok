{
 "cells": [
  {
   "cell_type": "code",
   "execution_count": 67,
   "id": "0ca82aeb",
   "metadata": {},
   "outputs": [],
   "source": [
    "import pandas as pd\n",
    "import numpy as np\n",
    "import re"
   ]
  },
  {
   "cell_type": "code",
   "execution_count": null,
   "id": "8217db7c",
   "metadata": {},
   "outputs": [],
   "source": [
    "from sklearn.preprocessing import OneHotEncoder"
   ]
  },
  {
   "cell_type": "markdown",
   "id": "d3541861",
   "metadata": {},
   "source": [
    "## Problem Statement\n",
    "\n",
    "We're going to try to predict something about tiktok users from a dataset of the top 250 users."
   ]
  },
  {
   "cell_type": "markdown",
   "id": "cbedd7f8",
   "metadata": {},
   "source": [
    "## Read in data from GitHub"
   ]
  },
  {
   "cell_type": "code",
   "execution_count": 69,
   "id": "57b5e3d8",
   "metadata": {},
   "outputs": [],
   "source": [
    "tiktok_path = \"https://raw.githubusercontent.com/datares/TikTok_Famous/main/Datasets/Top%20Tiktokers%20Data%20Collection/top-250-tiktokers.csv\"\n",
    "tiktok_raw = pd.read_csv(tiktok_path)"
   ]
  },
  {
   "cell_type": "code",
   "execution_count": 70,
   "id": "a8136c54",
   "metadata": {},
   "outputs": [],
   "source": [
    "tiktok_raw\n",
    "tiktok = tiktok_raw.copy()"
   ]
  },
  {
   "cell_type": "markdown",
   "id": "c3d386a1",
   "metadata": {},
   "source": [
    "## Data Cleaning"
   ]
  },
  {
   "cell_type": "code",
   "execution_count": 71,
   "id": "db9ac55e",
   "metadata": {},
   "outputs": [],
   "source": [
    "match = '\\d*[.]?\\d*'\n",
    "\n",
    "tiktok['Followers'] = tiktok_raw['Followers'].apply(lambda x: float(re.findall(match, x)[0]))\n",
    "tiktok['Views'] = tiktok_raw['Views'].apply(lambda x: float(re.findall(match, x)[0]))\n",
    "tiktok['Likes'] = tiktok_raw['Likes'].apply(lambda x: float(re.findall(match, x)[0]))\n",
    "tiktok['Engagement'] = tiktok_raw['Engagement'].apply(lambda x: float(re.findall('\\d*[.]?\\d*', x)[0]))"
   ]
  },
  {
   "cell_type": "markdown",
   "id": "84934b78",
   "metadata": {},
   "source": [
    "## Data Exploration"
   ]
  },
  {
   "cell_type": "code",
   "execution_count": 60,
   "id": "804b8c17",
   "metadata": {},
   "outputs": [
    {
     "name": "stdout",
     "output_type": "stream",
     "text": [
      "<class 'pandas.core.frame.DataFrame'>\n",
      "RangeIndex: 256 entries, 0 to 255\n",
      "Data columns (total 14 columns):\n",
      " #   Column         Non-Null Count  Dtype  \n",
      "---  ------         --------------  -----  \n",
      " 0   Rank           256 non-null    int64  \n",
      " 1   Username       256 non-null    object \n",
      " 2   Country        256 non-null    object \n",
      " 3   Followers      256 non-null    float64\n",
      " 4   Views          256 non-null    float64\n",
      " 5   Likes          256 non-null    float64\n",
      " 6   Engagement     256 non-null    float64\n",
      " 7   Brand Account  256 non-null    int64  \n",
      " 8   Gender         232 non-null    object \n",
      " 9   Age            225 non-null    float64\n",
      " 10  Ethnicity      242 non-null    object \n",
      " 11  Famous         255 non-null    float64\n",
      " 12  Genre          254 non-null    object \n",
      " 13  LGBTQ          239 non-null    float64\n",
      "dtypes: float64(7), int64(2), object(5)\n",
      "memory usage: 28.1+ KB\n"
     ]
    }
   ],
   "source": [
    "data_raw.info()"
   ]
  },
  {
   "cell_type": "markdown",
   "id": "ee0eb558",
   "metadata": {},
   "source": [
    "## Model Fitting"
   ]
  },
  {
   "cell_type": "code",
   "execution_count": 73,
   "id": "4c7cfba0",
   "metadata": {},
   "outputs": [],
   "source": [
    "from sklearn.linear_model import LogisticRegression\n",
    "from sklearn.ensemble import RandomForestClassifier\n",
    "from sklearn.neighbors import KNeighborsClassifier\n",
    "\n",
    "from sklearn.model_selection import GridSearchCV"
   ]
  },
  {
   "cell_type": "code",
   "execution_count": null,
   "id": "31973e9a",
   "metadata": {},
   "outputs": [],
   "source": [
    "# def print_metrics(model, X_train, X_test, y_train, y_test):\n",
    "# #      training and testing accuracy, F1 score, and AUC\n",
    "#     y_train_hat = model.predict(X_train)\n",
    "#     y_test_hat = model.predict(X_test)\n",
    "    \n",
    "#     train_accuracy = metrics.accuracy_score(y_train, y_train_hat)\n",
    "#     test_accuracy = metrics.accuracy_score(y_test, y_test_hat)\n",
    "#     f1_score = metrics.f1_score(y_test, y_test_hat)\n",
    "#     auc_score = metrics.roc_auc_score(y_test, y_test_hat)\n",
    "    \n",
    "#     print(\"\\ttrain accuracy: \", train_accuracy)\n",
    "#     print(\"\\ttest accuracy:\", test_accuracy)\n",
    "#     print(\"\\tf1 score:\", str(f1_score))\n",
    "#     print(\"\\tAUC\", auc_score)\n",
    "\n",
    "def fit_models(data):\n",
    "\n",
    "    models = {LogisticRegression: {},\n",
    "              RandomForestClassifier: {'min_samples_leaf': 3},\n",
    "              KNeighborsClassifier: {}}\n",
    "    \n",
    "    classifiers = {}\n",
    "    \n",
    "    for model, parameters in models.items():\n",
    "        pipe = Pipeline([('encoder', OneHotEncoder(handle_unknown='ignore')),\n",
    "                         ('scaler', StandardScaler(with_mean=False)), \n",
    "                         ('model', model(**parameters))])\n",
    "        GridSearch\n",
    "        name = model.__name__\n",
    "        classifiers[name] = pipe.fit(X_train, y_train)\n",
    "        print(name, \"(\" + \", \".join(f'{k}: {v}' for k,v in model.items()) + \")\")\n",
    "#         print_metrics(classifiers[name], X_train, X_test, y_train, y_test)\n",
    "    return classifiers"
   ]
  },
  {
   "cell_type": "markdown",
   "id": "fb39878e",
   "metadata": {},
   "source": [
    "## Metrics/Evaluation"
   ]
  }
 ],
 "metadata": {
  "kernelspec": {
   "display_name": "Python 3 (ipykernel)",
   "language": "python",
   "name": "python3"
  },
  "language_info": {
   "codemirror_mode": {
    "name": "ipython",
    "version": 3
   },
   "file_extension": ".py",
   "mimetype": "text/x-python",
   "name": "python",
   "nbconvert_exporter": "python",
   "pygments_lexer": "ipython3",
   "version": "3.7.11"
  }
 },
 "nbformat": 4,
 "nbformat_minor": 5
}
