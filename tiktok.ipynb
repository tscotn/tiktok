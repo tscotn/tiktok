{
 "cells": [
  {
   "cell_type": "code",
   "execution_count": 67,
   "id": "47dea06b",
   "metadata": {},
   "outputs": [],
   "source": [
    "import pandas as pd\n",
    "import numpy as np\n",
    "import re"
   ]
  },
  {
   "cell_type": "code",
   "execution_count": null,
   "id": "795f007f",
   "metadata": {},
   "outputs": [],
   "source": [
    "from sklearn.preprocessing import OneHotEncoder"
   ]
  },
  {
   "cell_type": "markdown",
   "id": "ba9e1523",
   "metadata": {},
   "source": [
    "## Problem Statement\n",
    "\n",
    "We're going to try to predict something about tiktok users from a dataset of the top 250 users.\n",
    "\n",
    "Because our dataset is small, we're going to use cross validation to identify the best combination of parameters for each model."
   ]
  },
  {
   "cell_type": "markdown",
   "id": "ed8fe706",
   "metadata": {},
   "source": [
    "## Read in data from GitHub"
   ]
  },
  {
   "cell_type": "code",
   "execution_count": 69,
   "id": "47594081",
   "metadata": {},
   "outputs": [],
   "source": [
    "tiktok_path = \"https://raw.githubusercontent.com/datares/TikTok_Famous/main/Datasets/Top%20Tiktokers%20Data%20Collection/top-250-tiktokers.csv\"\n",
    "tiktok_raw = pd.read_csv(tiktok_path)"
   ]
  },
  {
   "cell_type": "code",
   "execution_count": 78,
   "id": "b24d5562",
   "metadata": {},
   "outputs": [
    {
     "data": {
      "text/html": [
       "<div>\n",
       "<style scoped>\n",
       "    .dataframe tbody tr th:only-of-type {\n",
       "        vertical-align: middle;\n",
       "    }\n",
       "\n",
       "    .dataframe tbody tr th {\n",
       "        vertical-align: top;\n",
       "    }\n",
       "\n",
       "    .dataframe thead th {\n",
       "        text-align: right;\n",
       "    }\n",
       "</style>\n",
       "<table border=\"1\" class=\"dataframe\">\n",
       "  <thead>\n",
       "    <tr style=\"text-align: right;\">\n",
       "      <th></th>\n",
       "      <th>Rank</th>\n",
       "      <th>Username</th>\n",
       "      <th>Country</th>\n",
       "      <th>Followers</th>\n",
       "      <th>Views</th>\n",
       "      <th>Likes</th>\n",
       "      <th>Engagement</th>\n",
       "      <th>Brand Account</th>\n",
       "      <th>Gender</th>\n",
       "      <th>Age</th>\n",
       "      <th>Ethnicity</th>\n",
       "      <th>Famous</th>\n",
       "      <th>Genre</th>\n",
       "      <th>LGBTQ</th>\n",
       "    </tr>\n",
       "  </thead>\n",
       "  <tbody>\n",
       "    <tr>\n",
       "      <th>0</th>\n",
       "      <td>1</td>\n",
       "      <td>@charlidamelio</td>\n",
       "      <td>U.S.A</td>\n",
       "      <td>78.9m</td>\n",
       "      <td>38.3m</td>\n",
       "      <td>6.1m</td>\n",
       "      <td>16.60%</td>\n",
       "      <td>0</td>\n",
       "      <td>Female</td>\n",
       "      <td>16.0</td>\n",
       "      <td>White</td>\n",
       "      <td>0.0</td>\n",
       "      <td>Dancing, Lipsyncing, Lifestyle</td>\n",
       "      <td>0.0</td>\n",
       "    </tr>\n",
       "    <tr>\n",
       "      <th>1</th>\n",
       "      <td>2</td>\n",
       "      <td>@addisonre</td>\n",
       "      <td>U.S.A</td>\n",
       "      <td>53.7m</td>\n",
       "      <td>13.8m</td>\n",
       "      <td>2.8m</td>\n",
       "      <td>20.80%</td>\n",
       "      <td>0</td>\n",
       "      <td>Female</td>\n",
       "      <td>19.0</td>\n",
       "      <td>White</td>\n",
       "      <td>0.0</td>\n",
       "      <td>Dancing, Lipsyncing</td>\n",
       "      <td>0.0</td>\n",
       "    </tr>\n",
       "    <tr>\n",
       "      <th>2</th>\n",
       "      <td>3</td>\n",
       "      <td>@zachking</td>\n",
       "      <td>U.S.A</td>\n",
       "      <td>47.3m</td>\n",
       "      <td>17.6m</td>\n",
       "      <td>2.8m</td>\n",
       "      <td>16%</td>\n",
       "      <td>0</td>\n",
       "      <td>Male</td>\n",
       "      <td>30.0</td>\n",
       "      <td>East Asian</td>\n",
       "      <td>1.0</td>\n",
       "      <td>Comedy, Illusion</td>\n",
       "      <td>0.0</td>\n",
       "    </tr>\n",
       "    <tr>\n",
       "      <th>3</th>\n",
       "      <td>4</td>\n",
       "      <td>@lorengray</td>\n",
       "      <td>U.S.A</td>\n",
       "      <td>46.3m</td>\n",
       "      <td>3.2m</td>\n",
       "      <td>622.6k</td>\n",
       "      <td>19.70%</td>\n",
       "      <td>0</td>\n",
       "      <td>Female</td>\n",
       "      <td>18.0</td>\n",
       "      <td>White</td>\n",
       "      <td>1.0</td>\n",
       "      <td>Dancing, Lipsyncing</td>\n",
       "      <td>0.0</td>\n",
       "    </tr>\n",
       "    <tr>\n",
       "      <th>4</th>\n",
       "      <td>5</td>\n",
       "      <td>@tiktok</td>\n",
       "      <td>U.S.A</td>\n",
       "      <td>45.3m</td>\n",
       "      <td>9.4m</td>\n",
       "      <td>503.0k</td>\n",
       "      <td>5.60%</td>\n",
       "      <td>1</td>\n",
       "      <td>NaN</td>\n",
       "      <td>NaN</td>\n",
       "      <td>NaN</td>\n",
       "      <td>1.0</td>\n",
       "      <td>NaN</td>\n",
       "      <td>NaN</td>\n",
       "    </tr>\n",
       "    <tr>\n",
       "      <th>...</th>\n",
       "      <td>...</td>\n",
       "      <td>...</td>\n",
       "      <td>...</td>\n",
       "      <td>...</td>\n",
       "      <td>...</td>\n",
       "      <td>...</td>\n",
       "      <td>...</td>\n",
       "      <td>...</td>\n",
       "      <td>...</td>\n",
       "      <td>...</td>\n",
       "      <td>...</td>\n",
       "      <td>...</td>\n",
       "      <td>...</td>\n",
       "      <td>...</td>\n",
       "    </tr>\n",
       "    <tr>\n",
       "      <th>251</th>\n",
       "      <td>252</td>\n",
       "      <td>@ramneeksingh1313</td>\n",
       "      <td>India</td>\n",
       "      <td>8.6m</td>\n",
       "      <td>479.1k</td>\n",
       "      <td>31.6k</td>\n",
       "      <td>6.70%</td>\n",
       "      <td>0</td>\n",
       "      <td>Male</td>\n",
       "      <td>35.0</td>\n",
       "      <td>South Asian</td>\n",
       "      <td>0.0</td>\n",
       "      <td>Comedy, Acting</td>\n",
       "      <td>0.0</td>\n",
       "    </tr>\n",
       "    <tr>\n",
       "      <th>252</th>\n",
       "      <td>253</td>\n",
       "      <td>@amandacerny</td>\n",
       "      <td>U.S.A</td>\n",
       "      <td>8.6m</td>\n",
       "      <td>654.7k</td>\n",
       "      <td>95.2k</td>\n",
       "      <td>14.60%</td>\n",
       "      <td>0</td>\n",
       "      <td>Female</td>\n",
       "      <td>29.0</td>\n",
       "      <td>White</td>\n",
       "      <td>1.0</td>\n",
       "      <td>Comedy, Lifestyle</td>\n",
       "      <td>0.0</td>\n",
       "    </tr>\n",
       "    <tr>\n",
       "      <th>253</th>\n",
       "      <td>254</td>\n",
       "      <td>@rahimabram</td>\n",
       "      <td>Russia</td>\n",
       "      <td>8.6m</td>\n",
       "      <td>1.6m</td>\n",
       "      <td>271.2k</td>\n",
       "      <td>17%</td>\n",
       "      <td>0</td>\n",
       "      <td>Male</td>\n",
       "      <td>22.0</td>\n",
       "      <td>White</td>\n",
       "      <td>1.0</td>\n",
       "      <td>Lipsyncing, Promotion, Lifestyle</td>\n",
       "      <td>0.0</td>\n",
       "    </tr>\n",
       "    <tr>\n",
       "      <th>254</th>\n",
       "      <td>255</td>\n",
       "      <td>@johnnyorlando</td>\n",
       "      <td>U.S.A</td>\n",
       "      <td>8.6m</td>\n",
       "      <td>1.1m</td>\n",
       "      <td>245.4k</td>\n",
       "      <td>22.70%</td>\n",
       "      <td>0</td>\n",
       "      <td>Male</td>\n",
       "      <td>17.0</td>\n",
       "      <td>White</td>\n",
       "      <td>1.0</td>\n",
       "      <td>Lipsyncing, Promotion, Lifestyle</td>\n",
       "      <td>0.0</td>\n",
       "    </tr>\n",
       "    <tr>\n",
       "      <th>255</th>\n",
       "      <td>256</td>\n",
       "      <td>@sarati</td>\n",
       "      <td>U.S.A</td>\n",
       "      <td>8.6m</td>\n",
       "      <td>459.5k</td>\n",
       "      <td>90.4k</td>\n",
       "      <td>19.80%</td>\n",
       "      <td>0</td>\n",
       "      <td>Female</td>\n",
       "      <td>24.0</td>\n",
       "      <td>White</td>\n",
       "      <td>1.0</td>\n",
       "      <td>Dancing, Comedy, Lifestyle</td>\n",
       "      <td>0.0</td>\n",
       "    </tr>\n",
       "  </tbody>\n",
       "</table>\n",
       "<p>256 rows × 14 columns</p>\n",
       "</div>"
      ],
      "text/plain": [
       "     Rank           Username Country Followers   Views   Likes Engagement  \\\n",
       "0       1     @charlidamelio   U.S.A     78.9m   38.3m    6.1m     16.60%   \n",
       "1       2         @addisonre   U.S.A     53.7m   13.8m    2.8m     20.80%   \n",
       "2       3          @zachking   U.S.A     47.3m   17.6m    2.8m        16%   \n",
       "3       4         @lorengray   U.S.A     46.3m    3.2m  622.6k     19.70%   \n",
       "4       5            @tiktok   U.S.A     45.3m    9.4m  503.0k      5.60%   \n",
       "..    ...                ...     ...       ...     ...     ...        ...   \n",
       "251   252  @ramneeksingh1313   India      8.6m  479.1k   31.6k      6.70%   \n",
       "252   253       @amandacerny   U.S.A      8.6m  654.7k   95.2k     14.60%   \n",
       "253   254        @rahimabram  Russia      8.6m    1.6m  271.2k        17%   \n",
       "254   255     @johnnyorlando   U.S.A      8.6m    1.1m  245.4k     22.70%   \n",
       "255   256            @sarati   U.S.A      8.6m  459.5k   90.4k     19.80%   \n",
       "\n",
       "     Brand Account  Gender   Age    Ethnicity  Famous  \\\n",
       "0                0  Female  16.0        White     0.0   \n",
       "1                0  Female  19.0        White     0.0   \n",
       "2                0    Male  30.0   East Asian     1.0   \n",
       "3                0  Female  18.0        White     1.0   \n",
       "4                1     NaN   NaN          NaN     1.0   \n",
       "..             ...     ...   ...          ...     ...   \n",
       "251              0    Male  35.0  South Asian     0.0   \n",
       "252              0  Female  29.0        White     1.0   \n",
       "253              0    Male  22.0        White     1.0   \n",
       "254              0    Male  17.0        White     1.0   \n",
       "255              0  Female  24.0        White     1.0   \n",
       "\n",
       "                                Genre  LGBTQ  \n",
       "0      Dancing, Lipsyncing, Lifestyle    0.0  \n",
       "1                 Dancing, Lipsyncing    0.0  \n",
       "2                    Comedy, Illusion    0.0  \n",
       "3                 Dancing, Lipsyncing    0.0  \n",
       "4                                 NaN    NaN  \n",
       "..                                ...    ...  \n",
       "251                    Comedy, Acting    0.0  \n",
       "252                 Comedy, Lifestyle    0.0  \n",
       "253  Lipsyncing, Promotion, Lifestyle    0.0  \n",
       "254  Lipsyncing, Promotion, Lifestyle    0.0  \n",
       "255        Dancing, Comedy, Lifestyle    0.0  \n",
       "\n",
       "[256 rows x 14 columns]"
      ]
     },
     "execution_count": 78,
     "metadata": {},
     "output_type": "execute_result"
    }
   ],
   "source": [
    "tiktok_raw\n",
    "# tiktok = tiktok_raw.copy()"
   ]
  },
  {
   "cell_type": "code",
   "execution_count": 144,
   "id": "737a36d0",
   "metadata": {},
   "outputs": [],
   "source": [
    "genres = tiktok_raw.Genre.str.split(', ').to_list()\n",
    "unique_genres = list(set([item.strip() for sublist in genres if sublist is not np.nan for item in sublist]))"
   ]
  },
  {
   "cell_type": "code",
   "execution_count": 146,
   "id": "5faec8b5",
   "metadata": {},
   "outputs": [],
   "source": [
    "for genre in unique_genres:\n",
    "    tiktok[genre] = tiktok_raw.Genre.fillna('').str.contains(genre)"
   ]
  },
  {
   "cell_type": "code",
   "execution_count": 149,
   "id": "7dcf9269",
   "metadata": {},
   "outputs": [
    {
     "data": {
      "text/plain": [
       "<AxesSubplot:>"
      ]
     },
     "execution_count": 149,
     "metadata": {},
     "output_type": "execute_result"
    },
    {
     "data": {
      "image/png": "[encoded data removed]",
      "text/plain": [
       "<Figure size 432x288 with 2 Axes>"
      ]
     },
     "metadata": {
      "needs_background": "light"
     },
     "output_type": "display_data"
    }
   ],
   "source": [
    "import seaborn as sns\n",
    "sns.heatmap(tiktok == True)"
   ]
  },
  {
   "cell_type": "markdown",
   "id": "dda519fb",
   "metadata": {},
   "source": [
    "## Data Cleaning"
   ]
  },
  {
   "cell_type": "code",
   "execution_count": 71,
   "id": "5408c228",
   "metadata": {},
   "outputs": [],
   "source": [
    "match = '\\d*[.]?\\d*'\n",
    "\n",
    "tiktok['Followers'] = tiktok_raw['Followers'].apply(lambda x: float(re.findall(match, x)[0]))\n",
    "tiktok['Views'] = tiktok_raw['Views'].apply(lambda x: float(re.findall(match, x)[0]))\n",
    "tiktok['Likes'] = tiktok_raw['Likes'].apply(lambda x: float(re.findall(match, x)[0]))\n",
    "tiktok['Engagement'] = tiktok_raw['Engagement'].apply(lambda x: float(re.findall('\\d*[.]?\\d*', x)[0]))"
   ]
  },
  {
   "cell_type": "markdown",
   "id": "5a029b02",
   "metadata": {},
   "source": [
    "## Data Exploration"
   ]
  },
  {
   "cell_type": "code",
   "execution_count": 60,
   "id": "1b9c2626",
   "metadata": {},
   "outputs": [
    {
     "name": "stdout",
     "output_type": "stream",
     "text": [
      "<class 'pandas.core.frame.DataFrame'>\n",
      "RangeIndex: 256 entries, 0 to 255\n",
      "Data columns (total 14 columns):\n",
      " #   Column         Non-Null Count  Dtype  \n",
      "---  ------         --------------  -----  \n",
      " 0   Rank           256 non-null    int64  \n",
      " 1   Username       256 non-null    object \n",
      " 2   Country        256 non-null    object \n",
      " 3   Followers      256 non-null    float64\n",
      " 4   Views          256 non-null    float64\n",
      " 5   Likes          256 non-null    float64\n",
      " 6   Engagement     256 non-null    float64\n",
      " 7   Brand Account  256 non-null    int64  \n",
      " 8   Gender         232 non-null    object \n",
      " 9   Age            225 non-null    float64\n",
      " 10  Ethnicity      242 non-null    object \n",
      " 11  Famous         255 non-null    float64\n",
      " 12  Genre          254 non-null    object \n",
      " 13  LGBTQ          239 non-null    float64\n",
      "dtypes: float64(7), int64(2), object(5)\n",
      "memory usage: 28.1+ KB\n"
     ]
    }
   ],
   "source": [
    "data_raw.info()"
   ]
  },
  {
   "cell_type": "markdown",
   "id": "1d042501",
   "metadata": {},
   "source": [
    "## Model Fitting"
   ]
  },
  {
   "cell_type": "code",
   "execution_count": 76,
   "id": "64b991b9",
   "metadata": {},
   "outputs": [],
   "source": [
    "from sklearn.linear_model import LogisticRegression\n",
    "from sklearn.ensemble import RandomForestClassifier\n",
    "from sklearn.neighbors import KNeighborsClassifier\n",
    "\n",
    "from sklearn.pipeline import Pipeline\n",
    "from sklearn.model_selection import GridSearchCV"
   ]
  },
  {
   "cell_type": "code",
   "execution_count": null,
   "id": "0362cdf9",
   "metadata": {},
   "outputs": [],
   "source": [
    "# def print_metrics(model, X_train, X_test, y_train, y_test):\n",
    "# #      training and testing accuracy, F1 score, and AUC\n",
    "#     y_train_hat = model.predict(X_train)\n",
    "#     y_test_hat = model.predict(X_test)\n",
    "    \n",
    "#     train_accuracy = metrics.accuracy_score(y_train, y_train_hat)\n",
    "#     test_accuracy = metrics.accuracy_score(y_test, y_test_hat)\n",
    "#     f1_score = metrics.f1_score(y_test, y_test_hat)\n",
    "#     auc_score = metrics.roc_auc_score(y_test, y_test_hat)\n",
    "    \n",
    "#     print(\"\\ttrain accuracy: \", train_accuracy)\n",
    "#     print(\"\\ttest accuracy:\", test_accuracy)\n",
    "#     print(\"\\tf1 score:\", str(f1_score))\n",
    "#     print(\"\\tAUC\", auc_score)\n",
    "\n",
    "def fit_models(data):\n",
    "\n",
    "    models = {}\n",
    "    \n",
    "    regressors = {}\n",
    "    \n",
    "    for model, parameters in models.items():\n",
    "        pipe = Pipeline([('encoder', OneHotEncoder(handle_unknown='ignore')),\n",
    "                         ('scaler', StandardScaler(with_mean=False)), \n",
    "                         ('model', model(**parameters))])\n",
    "        \n",
    "        cv = GridSearchCV(pipe, parameters)\n",
    "        name = model.__name__\n",
    "        regressors[name] = cv.fit(X_train, y_train)\n",
    "        print(name, \"(\" + \", \".join(f'{k}: {v}' for k,v in model.items()) + \")\")\n",
    "#         print_metrics(classifiers[name], X_train, X_test, y_train, y_test)\n",
    "    return classifiers"
   ]
  },
  {
   "cell_type": "markdown",
   "id": "2004fa7e",
   "metadata": {},
   "source": [
    "## Metrics/Evaluation"
   ]
  },
  {
   "cell_type": "code",
   "execution_count": 74,
   "id": "a2ad64cc",
   "metadata": {},
   "outputs": [],
   "source": [
    "from sklearn.linear_model import LinearRegression"
   ]
  },
  {
   "cell_type": "code",
   "execution_count": 77,
   "id": "fc539cb8",
   "metadata": {},
   "outputs": [
    {
     "ename": "SyntaxError",
     "evalue": "invalid syntax (4178803686.py, line 1)",
     "output_type": "error",
     "traceback": [
      "\u001b[0;36m  File \u001b[0;32m\"/var/folders/nh/h9mm0gd91qg84wcvwqv1gpxw0000gn/T/ipykernel_97976/4178803686.py\"\u001b[0;36m, line \u001b[0;32m1\u001b[0m\n\u001b[0;31m    pipe  = Pipeline([model = LinearRegression()])\u001b[0m\n\u001b[0m                            ^\u001b[0m\n\u001b[0;31mSyntaxError\u001b[0m\u001b[0;31m:\u001b[0m invalid syntax\n"
     ]
    }
   ],
   "source": [
    "pipe  = Pipeline([model, LinearRegression()])\n",
    "parameters\n",
    "GridSearchCV(model, GridSearchCv)"
   ]
  },
  {
   "cell_type": "code",
   "execution_count": null,
   "id": "f05f3037",
   "metadata": {},
   "outputs": [],
   "source": []
  }
 ],
 "metadata": {
  "kernelspec": {
   "display_name": "Python 3 (ipykernel)",
   "language": "python",
   "name": "python3"
  },
  "language_info": {
   "codemirror_mode": {
    "name": "ipython",
    "version": 3
   },
   "file_extension": ".py",
   "mimetype": "text/x-python",
   "name": "python",
   "nbconvert_exporter": "python",
   "pygments_lexer": "ipython3",
   "version": "3.7.11"
  }
 },
 "nbformat": 4,
 "nbformat_minor": 5
}
