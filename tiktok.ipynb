{
 "cells": [
  {
   "cell_type": "code",
   "execution_count": 297,
   "id": "28f2d02f",
   "metadata": {},
   "outputs": [],
   "source": [
    "import pandas as pd\n",
    "import numpy as np\n",
    "import re\n",
    "\n",
    "import seaborn as sns\n",
    "\n",
    "import warnings\n",
    "warnings.filterwarnings('ignore')"
   ]
  },
  {
   "cell_type": "code",
   "execution_count": 163,
   "id": "ccc3848d",
   "metadata": {},
   "outputs": [],
   "source": [
    "from sklearn.preprocessing import OneHotEncoder"
   ]
  },
  {
   "cell_type": "markdown",
   "id": "93f13090",
   "metadata": {},
   "source": [
    "## Problem Statement\n",
    "\n",
    "We're going to try to predict something about tiktok users from a dataset of the top 250 users.\n",
    "\n",
    "Because our dataset is small, we're going to use cross validation to identify the best combination of parameters for each model."
   ]
  },
  {
   "cell_type": "markdown",
   "id": "4d02f723",
   "metadata": {},
   "source": [
    "## Read in data from GitHub"
   ]
  },
  {
   "cell_type": "code",
   "execution_count": 199,
   "id": "886e2a3d",
   "metadata": {},
   "outputs": [],
   "source": [
    "tiktok_path = \"https://raw.githubusercontent.com/datares/TikTok_Famous/main/Datasets/Top%20Tiktokers%20Data%20Collection/top-250-tiktokers.csv\"\n",
    "tiktok_raw = pd.read_csv(tiktok_path).drop(columns = ['Rank','Brand Account','Views','LGBTQ']).set_index('Username')\n",
    "tiktok = tiktok_raw.copy()"
   ]
  },
  {
   "cell_type": "markdown",
   "id": "4284430a",
   "metadata": {},
   "source": [
    "## Data Cleaning"
   ]
  },
  {
   "cell_type": "code",
   "execution_count": 241,
   "id": "be7ef469",
   "metadata": {},
   "outputs": [],
   "source": [
    "genres = tiktok_raw.Genre.str.split(', ').to_list()\n",
    "unique_genres = list(set([item.strip() for sublist in genres if sublist is not np.nan for item in sublist]))\n",
    "for genre in unique_genres:\n",
    "    tiktok[genre] = tiktok_raw.Genre.fillna('').str.contains(genre)\n",
    "tiktok = tiktok.drop(columns=['Genre'])"
   ]
  },
  {
   "cell_type": "code",
   "execution_count": 242,
   "id": "f4b9cba6",
   "metadata": {},
   "outputs": [],
   "source": [
    "match = '\\d*[.]?\\d*'\n",
    "\n",
    "tiktok['Followers'] = tiktok_raw['Followers'].apply(lambda x: float(re.findall(match, x)[0]))\n",
    "tiktok['Likes'] = tiktok_raw['Likes'].apply(lambda x: float(re.findall(match, x)[0]))\n",
    "tiktok['Engagement'] = tiktok_raw['Engagement'].apply(lambda x: float(re.findall('\\d*[.]?\\d*', x)[0]))"
   ]
  },
  {
   "cell_type": "code",
   "execution_count": 271,
   "id": "3423bc4b",
   "metadata": {},
   "outputs": [],
   "source": [
    "tiktok['Famous'] = tiktok['Famous'].fillna(0)\n",
    "tiktok = tiktok.dropna()"
   ]
  },
  {
   "cell_type": "code",
   "execution_count": 255,
   "id": "a6079707",
   "metadata": {},
   "outputs": [],
   "source": [
    "categorical_vars = ['Country', 'Gender', 'Ethnicity']\n",
    "tiktok = tiktok.join(pd.get_dummies(tiktok[categorical_vars])).drop(columns=categorical_vars)"
   ]
  },
  {
   "cell_type": "markdown",
   "id": "8ab3a989",
   "metadata": {},
   "source": [
    "## Data Exploration"
   ]
  },
  {
   "cell_type": "code",
   "execution_count": 202,
   "id": "1d63f2a1",
   "metadata": {},
   "outputs": [
    {
     "name": "stdout",
     "output_type": "stream",
     "text": [
      "<class 'pandas.core.frame.DataFrame'>\n",
      "Index: 256 entries, @charlidamelio to @sarati\n",
      "Data columns (total 35 columns):\n",
      " #   Column                 Non-Null Count  Dtype  \n",
      "---  ------                 --------------  -----  \n",
      " 0   Country                256 non-null    object \n",
      " 1   Followers              256 non-null    float64\n",
      " 2   Likes                  256 non-null    float64\n",
      " 3   Engagement             256 non-null    float64\n",
      " 4   Gender                 232 non-null    object \n",
      " 5   Age                    225 non-null    float64\n",
      " 6   Ethnicity              242 non-null    object \n",
      " 7   Famous                 255 non-null    float64\n",
      " 8   Genre                  254 non-null    object \n",
      " 9   Reviews                256 non-null    bool   \n",
      " 10  Acting                 256 non-null    bool   \n",
      " 11  Dancing                256 non-null    bool   \n",
      " 12  Motivational Speaking  256 non-null    bool   \n",
      " 13  Content House          256 non-null    bool   \n",
      " 14  Singing                256 non-null    bool   \n",
      " 15  Fitness                256 non-null    bool   \n",
      " 16  Illusion               256 non-null    bool   \n",
      " 17  Reacting               256 non-null    bool   \n",
      " 18  Pranking               256 non-null    bool   \n",
      " 19  Parkour                256 non-null    bool   \n",
      " 20  Photography            256 non-null    bool   \n",
      " 21  DIY                    256 non-null    bool   \n",
      " 22  Comedy                 256 non-null    bool   \n",
      " 23  Lipsyncing             256 non-null    bool   \n",
      " 24  Highlights             256 non-null    bool   \n",
      " 25  Family                 256 non-null    bool   \n",
      " 26  Education              256 non-null    bool   \n",
      " 27  Food                   256 non-null    bool   \n",
      " 28  Makeup                 256 non-null    bool   \n",
      " 29  Art                    256 non-null    bool   \n",
      " 30  Media                  256 non-null    bool   \n",
      " 31  Pets                   256 non-null    bool   \n",
      " 32  Relationship           256 non-null    bool   \n",
      " 33  Lifestyle              256 non-null    bool   \n",
      " 34  Promotion              256 non-null    bool   \n",
      "dtypes: bool(26), float64(5), object(4)\n",
      "memory usage: 26.5+ KB\n"
     ]
    }
   ],
   "source": [
    "tiktok.info()"
   ]
  },
  {
   "cell_type": "markdown",
   "id": "0b4b1409",
   "metadata": {},
   "source": [
    "## Feature, Target Split"
   ]
  },
  {
   "cell_type": "code",
   "execution_count": 273,
   "id": "16fd3338",
   "metadata": {},
   "outputs": [],
   "source": [
    "X = tiktok.drop(columns=['Engagement'])\n",
    "y = tiktok[['Engagement']]"
   ]
  },
  {
   "cell_type": "markdown",
   "id": "229ad753",
   "metadata": {},
   "source": [
    "## Model Fitting"
   ]
  },
  {
   "cell_type": "code",
   "execution_count": 299,
   "id": "a7770ef7",
   "metadata": {},
   "outputs": [],
   "source": [
    "from sklearn.linear_model import LinearRegression, ElasticNet, Perceptron\n",
    "from sklearn.ensemble import RandomForestRegressor\n",
    "from sklearn.neighbors import KNeighborsRegressor\n",
    "\n",
    "from sklearn.pipeline import Pipeline\n",
    "from sklearn.model_selection import GridSearchCV\n",
    "\n",
    "from sklearn.preprocessing import StandardScaler, PolynomialFeatures"
   ]
  },
  {
   "cell_type": "code",
   "execution_count": 319,
   "id": "3e64b39f",
   "metadata": {},
   "outputs": [],
   "source": [
    "def fit_models(X, y):\n",
    "    overall = {'poly__degree': [1,2], 'poly__interaction_only': [True, False]}\n",
    "    models = {LinearRegression: {'model__positive': [True, False]},\n",
    "              ElasticNet: {},\n",
    "              RandomForestRegressor: {},\n",
    "              KNeighborsRegressor: {}}\n",
    "\n",
    "    for model, params in models.items():\n",
    "        pipe  = Pipeline([('poly', PolynomialFeatures(interaction_only=True)),\n",
    "                          ('scaler', StandardScaler()), \n",
    "                          ('model', model())])\n",
    "        params.update(overall)\n",
    "        cv = GridSearchCV(pipe, params, scoring='neg_mean_squared_error')\n",
    "        cv.fit(X, y)\n",
    "        print(model.__name__, ':', cv.best_params_)\n",
    "        print('\\tMSE:', np.abs(cv.best_score_))"
   ]
  },
  {
   "cell_type": "code",
   "execution_count": 320,
   "id": "d364c84a",
   "metadata": {},
   "outputs": [
    {
     "name": "stdout",
     "output_type": "stream",
     "text": [
      "LinearRegression : {'model__positive': True, 'poly__degree': 1, 'poly__interaction_only': True}\n",
      "\tMSE: 27.417742912290826\n",
      "ElasticNet : {'poly__degree': 1, 'poly__interaction_only': True}\n",
      "\tMSE: 19.769952707394346\n",
      "RandomForestRegressor : {'poly__degree': 2, 'poly__interaction_only': True}\n",
      "\tMSE: 20.160365902222228\n",
      "KNeighborsRegressor : {'poly__degree': 1, 'poly__interaction_only': True}\n",
      "\tMSE: 23.07973511111111\n"
     ]
    }
   ],
   "source": [
    "fit_models(X, y)"
   ]
  },
  {
   "cell_type": "markdown",
   "id": "b8353d33",
   "metadata": {},
   "source": [
    "## Metrics/Evaluation"
   ]
  }
 ],
 "metadata": {
  "kernelspec": {
   "display_name": "Python 3 (ipykernel)",
   "language": "python",
   "name": "python3"
  },
  "language_info": {
   "codemirror_mode": {
    "name": "ipython",
    "version": 3
   },
   "file_extension": ".py",
   "mimetype": "text/x-python",
   "name": "python",
   "nbconvert_exporter": "python",
   "pygments_lexer": "ipython3",
   "version": "3.7.11"
  }
 },
 "nbformat": 4,
 "nbformat_minor": 5
}
